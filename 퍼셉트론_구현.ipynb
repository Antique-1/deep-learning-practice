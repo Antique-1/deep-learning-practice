{
  "cells": [
    {
      "cell_type": "markdown",
      "metadata": {
        "id": "view-in-github",
        "colab_type": "text"
      },
      "source": [
        "<a href=\"https://colab.research.google.com/github/Antique-1/deep-learning-practice/blob/main/%ED%8D%BC%EC%85%89%ED%8A%B8%EB%A1%A0_%EA%B5%AC%ED%98%84.ipynb\" target=\"_parent\"><img src=\"https://colab.research.google.com/assets/colab-badge.svg\" alt=\"Open In Colab\"/></a>"
      ]
    },
    {
      "cell_type": "code",
      "execution_count": 1,
      "metadata": {
        "id": "4IvVkQVV-bR5"
      },
      "outputs": [],
      "source": [
        "import numpy as np"
      ]
    },
    {
      "cell_type": "code",
      "execution_count": 2,
      "metadata": {
        "id": "g22UduqZ-bR6"
      },
      "outputs": [],
      "source": [
        "# AND 데이터셋 정의\n",
        "AND_X = np.array([[0, 0], [0, 1], [1, 0], [1, 1]])  # 입력값\n",
        "AND_y = np.array([0, 0, 0, 1])  # AND 출력값\n",
        "\n",
        "# OR 데이터셋 정의\n",
        "OR_X = np.array([[0, 0], [0, 1], [1, 0], [1, 1]])  # 입력값\n",
        "OR_y = np.array([0, 1, 1, 1])  # OR 출력값\n",
        "\n",
        "# XOR 데이터셋 정의\n",
        "XOR_X = np.array([[0, 0], [0, 1], [1, 0], [1, 1]])  # 입력값\n",
        "XOR_y = np.array([0, 1, 1, 0])  # XOR 출력값"
      ]
    },
    {
      "cell_type": "code",
      "execution_count": 3,
      "metadata": {
        "id": "uso-thK8-bR6"
      },
      "outputs": [],
      "source": [
        "# 퍼셉트론 모델 정의\n",
        "class Perceptron:\n",
        "    def __init__(self, input_size, lr=0.1, epochs=10):\n",
        "        self.weights = np.zeros(input_size + 1)  # 가중치 초기화 (bias 포함)\n",
        "        self.lr = lr  # 학습률\n",
        "        self.epochs = epochs  # 학습 반복 횟수\n",
        "\n",
        "    def activation(self, x):\n",
        "        return 1 if x >= 0 else 0  # 단위 계단 함수\n",
        "\n",
        "    def predict(self, x):\n",
        "        z = np.dot(x, self.weights[1:]) + self.weights[0]  # 가중치와 입력값 계산\n",
        "        return self.activation(z)\n",
        "        # 값이 특정 임계치를 넘을때 활성화되는 활성화 함수 activation\n",
        "\n",
        "    def fit(self, X, y):\n",
        "        for epoch in range(self.epochs):\n",
        "            for i in range(X.shape[0]):\n",
        "                x_i = X[i]\n",
        "                y_pred = self.predict(x_i)\n",
        "                error = y[i] - y_pred\n",
        "\n",
        "                # 가중치 업데이트\n",
        "                self.weights[1:] += self.lr * error * x_i\n",
        "                self.weights[0] += self.lr * error  # bias 업데이트\n",
        "\n",
        "            # 학습 과정 출력\n",
        "            print(f\"Epoch {epoch + 1}/{self.epochs}, Weights: {self.weights}\")"
      ]
    },
    {
      "cell_type": "markdown",
      "metadata": {
        "id": "n1m2h47q-bR7"
      },
      "source": [
        "# AND 데이터 학습"
      ]
    },
    {
      "cell_type": "code",
      "execution_count": 4,
      "metadata": {
        "colab": {
          "base_uri": "https://localhost:8080/"
        },
        "id": "csgsRAED-bR8",
        "outputId": "668ba4e7-084c-4316-a5e1-c1d20b7c4562"
      },
      "outputs": [
        {
          "output_type": "stream",
          "name": "stdout",
          "text": [
            "Epoch 1/10, Weights: [0.  0.1 0.1]\n",
            "Epoch 2/10, Weights: [-0.1  0.2  0.1]\n",
            "Epoch 3/10, Weights: [-0.2  0.2  0.1]\n",
            "Epoch 4/10, Weights: [-0.2  0.2  0.1]\n",
            "Epoch 5/10, Weights: [-0.2  0.2  0.1]\n",
            "Epoch 6/10, Weights: [-0.2  0.2  0.1]\n",
            "Epoch 7/10, Weights: [-0.2  0.2  0.1]\n",
            "Epoch 8/10, Weights: [-0.2  0.2  0.1]\n",
            "Epoch 9/10, Weights: [-0.2  0.2  0.1]\n",
            "Epoch 10/10, Weights: [-0.2  0.2  0.1]\n"
          ]
        }
      ],
      "source": [
        "# 퍼셉트론 학습\n",
        "perceptron = Perceptron(input_size=2, lr=0.1, epochs=10)\n",
        "perceptron.fit(AND_X, AND_y)"
      ]
    },
    {
      "cell_type": "code",
      "execution_count": 5,
      "metadata": {
        "colab": {
          "base_uri": "https://localhost:8080/"
        },
        "id": "I0dNGlbQ-bR9",
        "outputId": "392222bd-888c-4dda-f5e3-f68bb1151da4"
      },
      "outputs": [
        {
          "output_type": "stream",
          "name": "stdout",
          "text": [
            "Input: [0 0], Predicted: 0, Target: 0\n",
            "Input: [0 1], Predicted: 0, Target: 0\n",
            "Input: [1 0], Predicted: 0, Target: 0\n",
            "Input: [1 1], Predicted: 1, Target: 1\n"
          ]
        }
      ],
      "source": [
        "# AND 테스트\n",
        "for x, target in zip(AND_X, AND_y):\n",
        "    pred = perceptron.predict(x)\n",
        "    print(f\"Input: {x}, Predicted: {pred}, Target: {target}\")"
      ]
    },
    {
      "cell_type": "markdown",
      "metadata": {
        "id": "o3bigTot-bR9"
      },
      "source": [
        "# OR 데이터 학습"
      ]
    },
    {
      "cell_type": "code",
      "execution_count": 6,
      "metadata": {
        "colab": {
          "base_uri": "https://localhost:8080/"
        },
        "id": "uQclOUvM-bR9",
        "outputId": "8a578a9e-08c6-4477-a9d9-aabb16daa62e"
      },
      "outputs": [
        {
          "output_type": "stream",
          "name": "stdout",
          "text": [
            "Epoch 1/10, Weights: [0.  0.  0.1]\n",
            "Epoch 2/10, Weights: [0.  0.1 0.1]\n",
            "Epoch 3/10, Weights: [-0.1  0.1  0.1]\n",
            "Epoch 4/10, Weights: [-0.1  0.1  0.1]\n",
            "Epoch 5/10, Weights: [-0.1  0.1  0.1]\n",
            "Epoch 6/10, Weights: [-0.1  0.1  0.1]\n",
            "Epoch 7/10, Weights: [-0.1  0.1  0.1]\n",
            "Epoch 8/10, Weights: [-0.1  0.1  0.1]\n",
            "Epoch 9/10, Weights: [-0.1  0.1  0.1]\n",
            "Epoch 10/10, Weights: [-0.1  0.1  0.1]\n"
          ]
        }
      ],
      "source": [
        "# 퍼셉트론 학습\n",
        "perceptron = Perceptron(input_size=2, lr=0.1, epochs=10)\n",
        "perceptron.fit(OR_X, OR_y)"
      ]
    },
    {
      "cell_type": "code",
      "execution_count": 7,
      "metadata": {
        "colab": {
          "base_uri": "https://localhost:8080/"
        },
        "id": "aa3durbc-bR-",
        "outputId": "20c9eac2-b9ce-4732-e2d4-37fb706f811f"
      },
      "outputs": [
        {
          "output_type": "stream",
          "name": "stdout",
          "text": [
            "Input: [0 0], Predicted: 0, Target: 0\n",
            "Input: [0 1], Predicted: 1, Target: 1\n",
            "Input: [1 0], Predicted: 1, Target: 1\n",
            "Input: [1 1], Predicted: 1, Target: 1\n"
          ]
        }
      ],
      "source": [
        "# OR 테스트\n",
        "for x, target in zip(OR_X, OR_y):\n",
        "    pred = perceptron.predict(x)\n",
        "    print(f\"Input: {x}, Predicted: {pred}, Target: {target}\")\n",
        "\n",
        "    # AND와 OR은 정상적으로 예상값과 일치"
      ]
    },
    {
      "cell_type": "markdown",
      "metadata": {
        "id": "6Wq9wcv4-bR-"
      },
      "source": [
        "# XOR 데이터 학습"
      ]
    },
    {
      "cell_type": "code",
      "execution_count": 8,
      "metadata": {
        "colab": {
          "base_uri": "https://localhost:8080/"
        },
        "id": "tfCmcViK-bR-",
        "outputId": "ffeee0b6-00eb-4c34-bebd-b2b76075983a"
      },
      "outputs": [
        {
          "output_type": "stream",
          "name": "stdout",
          "text": [
            "Epoch 1/10, Weights: [-0.1 -0.1  0. ]\n",
            "Epoch 2/10, Weights: [ 0.  -0.1  0. ]\n",
            "Epoch 3/10, Weights: [ 0.  -0.1  0. ]\n",
            "Epoch 4/10, Weights: [ 0.  -0.1  0. ]\n",
            "Epoch 5/10, Weights: [ 0.  -0.1  0. ]\n",
            "Epoch 6/10, Weights: [ 0.  -0.1  0. ]\n",
            "Epoch 7/10, Weights: [ 0.  -0.1  0. ]\n",
            "Epoch 8/10, Weights: [ 0.  -0.1  0. ]\n",
            "Epoch 9/10, Weights: [ 0.  -0.1  0. ]\n",
            "Epoch 10/10, Weights: [ 0.  -0.1  0. ]\n"
          ]
        }
      ],
      "source": [
        "# 퍼셉트론 학습\n",
        "perceptron = Perceptron(input_size=2, lr=0.1, epochs=10)\n",
        "perceptron.fit(XOR_X, XOR_y)"
      ]
    },
    {
      "cell_type": "code",
      "execution_count": 9,
      "metadata": {
        "colab": {
          "base_uri": "https://localhost:8080/"
        },
        "id": "kxWWvYml-bR-",
        "outputId": "5e001d8b-4ae2-4d14-c48f-0cd8f853cc38"
      },
      "outputs": [
        {
          "output_type": "stream",
          "name": "stdout",
          "text": [
            "Testing XOR Problem:\n",
            "Input: [0 0], Predicted: 1, Target: 0\n",
            "Input: [0 1], Predicted: 1, Target: 1\n",
            "Input: [1 0], Predicted: 0, Target: 1\n",
            "Input: [1 1], Predicted: 0, Target: 0\n"
          ]
        }
      ],
      "source": [
        "# XOR 문제 테스트\n",
        "print(\"Testing XOR Problem:\")\n",
        "for x, target in zip(XOR_X, XOR_y):\n",
        "    pred = perceptron.predict(x)\n",
        "    print(f\"Input: {x}, Predicted: {pred}, Target: {target}\")\n",
        "\n",
        "    # 퍼셉트론 코드로 XOR문제를 예측할 수 없다는 것을 확인할 수 있다"
      ]
    }
  ],
  "metadata": {
    "kernelspec": {
      "display_name": "Python 3",
      "name": "python3"
    },
    "language_info": {
      "codemirror_mode": {
        "name": "ipython",
        "version": 3
      },
      "file_extension": ".py",
      "mimetype": "text/x-python",
      "name": "python",
      "nbconvert_exporter": "python",
      "pygments_lexer": "ipython3",
      "version": "3.9.0"
    },
    "colab": {
      "provenance": [],
      "gpuType": "T4",
      "include_colab_link": true
    },
    "accelerator": "GPU"
  },
  "nbformat": 4,
  "nbformat_minor": 0
}